{
 "cells": [
  {
   "cell_type": "markdown",
   "id": "588a8341-9a18-41bf-877b-0b4592a812f8",
   "metadata": {
    "tags": []
   },
   "source": [
    "# Lecture 3: Loops\n",
    "\n",
    "Loops allow you to repeat lines of code. "
   ]
  },
  {
   "cell_type": "markdown",
   "id": "26b6cdfc-e3c2-44b5-a9d9-c85d4f84b20d",
   "metadata": {},
   "source": [
    "## For Loops\n",
    "\n",
    "For loops repeat a statement or collection of statements for every element of an iterable sequence (`list`, `range`, `dict`, `file`, `str`). The statements are executed once for each element."
   ]
  },
  {
   "cell_type": "code",
   "execution_count": 2,
   "id": "4aa23273-a584-42cb-97e2-e1528ef26801",
   "metadata": {
    "tags": []
   },
   "outputs": [
    {
     "name": "stdout",
     "output_type": "stream",
     "text": [
      "Nicole\n",
      "Shae\n",
      "Shannon\n",
      "Leasly\n",
      "Mya\n",
      "Emma\n",
      "Kederson\n",
      "Lily\n",
      "Robert\n",
      "Cecelia\n"
     ]
    }
   ],
   "source": [
    "names = ['Nicole', 'Shae', 'Shannon', 'Leasly', 'Mya', 'Emma', 'Kederson', 'Lily', 'Robert', 'Cecelia']\n",
    "\n",
    "for name in names:\n",
    "    print(name)"
   ]
  },
  {
   "cell_type": "markdown",
   "id": "d2d96e21-b55c-4502-bbce-6029f62cb47d",
   "metadata": {
    "tags": []
   },
   "source": [
    "#### The Range Function\n",
    "\n",
    "If we don't have an existing sequence we want to iterate over, we can create one with the `range(n)` function. \n",
    "\n",
    "* `range(n)`:   $[0, 1, 2, 3, \\dots, n-1]$\n",
    "* `range(p, q)`:     $[p, p+1, p+2, \\dots, q-1]$\n",
    "* `range(p, q, r)`:  $[p, p+r, p+(2*r), \\dots, q-1]$"
   ]
  },
  {
   "cell_type": "code",
   "execution_count": 136,
   "id": "245ba93f-c2df-4210-88ad-ef4ba44ca1c3",
   "metadata": {},
   "outputs": [
    {
     "name": "stdout",
     "output_type": "stream",
     "text": [
      "0\n",
      "1\n",
      "2\n",
      "3\n",
      "4\n"
     ]
    }
   ],
   "source": [
    "for i in range(5):\n",
    "    print(i)"
   ]
  },
  {
   "cell_type": "code",
   "execution_count": 137,
   "id": "c6cbde00-9064-46be-9f01-7c6b333c9748",
   "metadata": {},
   "outputs": [
    {
     "name": "stdout",
     "output_type": "stream",
     "text": [
      "1\n",
      "2\n",
      "3\n",
      "4\n"
     ]
    }
   ],
   "source": [
    "for i in range(1, 5):\n",
    "    print(i)"
   ]
  },
  {
   "cell_type": "code",
   "execution_count": 138,
   "id": "d207c6ac-e305-4c12-ae08-c710b469f30b",
   "metadata": {},
   "outputs": [
    {
     "name": "stdout",
     "output_type": "stream",
     "text": [
      "0\n",
      "2\n",
      "4\n"
     ]
    }
   ],
   "source": [
    "for i in range(0, 5, 2):\n",
    "    print(i)"
   ]
  },
  {
   "cell_type": "markdown",
   "id": "9e0b8158-557c-45b4-b32a-2d6053d96be9",
   "metadata": {
    "tags": []
   },
   "source": [
    "## Nested For Loops\n",
    "\n",
    "If we have to iterate over a sequence that also contains sequences, we can *nest* multiple for loops."
   ]
  },
  {
   "cell_type": "code",
   "execution_count": 141,
   "id": "d64e663d-8b6c-4b1a-9e97-bec829d7a5bf",
   "metadata": {},
   "outputs": [
    {
     "name": "stdout",
     "output_type": "stream",
     "text": [
      "--------------------\n",
      "Group  0\n",
      "--------------------\n",
      "Nicole\n",
      "Shae\n",
      "Shannon\n",
      "--------------------\n",
      "Group  1\n",
      "--------------------\n",
      "Leasly\n",
      "Mya\n",
      "Emma\n",
      "--------------------\n",
      "Group  2\n",
      "--------------------\n",
      "Kederson\n",
      "Lily\n",
      "Robert\n",
      "Cecelia\n"
     ]
    }
   ],
   "source": [
    "student_groups = [ ['Nicole', 'Shae', 'Shannon'] , ['Leasly', 'Mya', 'Emma'], ['Kederson', 'Lily', 'Robert', 'Cecelia'] ]\n",
    "\n",
    "for i in range(len(student_groups)):\n",
    "    \n",
    "    print(20*'-')\n",
    "    print('Group ', i)\n",
    "    print(20*'-')\n",
    "\n",
    "    for name in student_groups[i]:\n",
    "        print(name)"
   ]
  },
  {
   "cell_type": "markdown",
   "id": "5616b54d-4aa6-4a4f-b1fe-ba4a183bb88a",
   "metadata": {
    "tags": []
   },
   "source": [
    "## While Loops\n",
    "\n",
    "While loops contain a sequence of statements that are repeated over and over again until some condition is met."
   ]
  },
  {
   "cell_type": "code",
   "execution_count": 134,
   "id": "c8365125-9f6f-4b19-b960-fcda34b0e8d1",
   "metadata": {},
   "outputs": [
    {
     "name": "stdout",
     "output_type": "stream",
     "text": [
      "blah\n",
      "blah\n",
      "blah\n",
      "blah\n",
      "blah\n",
      "blah\n",
      "blah\n",
      "blah\n",
      "blah\n",
      "blah\n",
      "blah\n",
      "dan has been talking too long \n",
      "goodnight dan\n"
     ]
    }
   ],
   "source": [
    "count = 0\n",
    "dan = 'talking'\n",
    "\n",
    "while dan == 'talking':\n",
    "    print('blah')\n",
    "    count += 1    # += adds the value to the existing value and assigns the updated value to the variable\n",
    "    \n",
    "    if count > 10:\n",
    "        print('dan has been talking too long \\ngoodnight dan')\n",
    "        dan = 'sleeping'\n",
    "    "
   ]
  },
  {
   "cell_type": "markdown",
   "id": "b1e228c4-c2b3-4d1e-8534-0f03c9320295",
   "metadata": {},
   "source": [
    "### Break and Continue\n",
    "\n",
    "There may be times where we need to exit a loop after some condition is met. To do this, we use `break`. If a condition is met that has this statement, then the code immediately exits the loop."
   ]
  },
  {
   "cell_type": "code",
   "execution_count": 142,
   "id": "925b7319-6514-4010-9a55-d5cacc470f11",
   "metadata": {},
   "outputs": [
    {
     "name": "stdout",
     "output_type": "stream",
     "text": [
      "0\n",
      "1\n",
      "2\n",
      "3\n",
      "4\n",
      "5\n",
      "6\n",
      "7\n",
      "8\n"
     ]
    }
   ],
   "source": [
    "for i in range(10):\n",
    "\n",
    "    print(i)\n",
    "\n",
    "    if i == 8:\n",
    "        break"
   ]
  },
  {
   "cell_type": "markdown",
   "id": "6198c327-a4eb-44e1-a4f8-f1408e325d47",
   "metadata": {},
   "source": [
    "We also have `continue`. This lets us enter the next iteration, but skips any code in the loop that comes after this statement."
   ]
  },
  {
   "cell_type": "code",
   "execution_count": 144,
   "id": "adeee12d-7b57-4485-bf4b-edbfbfd53106",
   "metadata": {},
   "outputs": [
    {
     "name": "stdout",
     "output_type": "stream",
     "text": [
      "5\n",
      "10\n",
      "15\n",
      "20\n",
      "25\n"
     ]
    }
   ],
   "source": [
    "i = 1\n",
    "\n",
    "while i <= 25:\n",
    "    i = i + 1\n",
    "\n",
    "    if i % 5 != 0:  # for any value that isn't a multiple of 5, skip printing\n",
    "        continue\n",
    "\n",
    "    print(i)"
   ]
  },
  {
   "cell_type": "code",
   "execution_count": null,
   "id": "64a74109-5d74-4957-9d2c-854392d9bcf5",
   "metadata": {},
   "outputs": [],
   "source": []
  }
 ],
 "metadata": {
  "kernelspec": {
   "display_name": "Python 3 (ipykernel)",
   "language": "python",
   "name": "python3"
  },
  "language_info": {
   "codemirror_mode": {
    "name": "ipython",
    "version": 3
   },
   "file_extension": ".py",
   "mimetype": "text/x-python",
   "name": "python",
   "nbconvert_exporter": "python",
   "pygments_lexer": "ipython3",
   "version": "3.10.13"
  }
 },
 "nbformat": 4,
 "nbformat_minor": 5
}
